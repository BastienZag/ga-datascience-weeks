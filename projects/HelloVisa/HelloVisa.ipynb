{
 "cells": [
  {
   "cell_type": "markdown",
   "metadata": {},
   "source": [
    "# HelloVisa: Conversation predictions/recommendations\n",
    "\n",
    "Goal:\n",
    "Predict the next dialog with the data from previous dialogs"
   ]
  },
  {
   "cell_type": "code",
   "execution_count": 3,
   "metadata": {
    "collapsed": false
   },
   "outputs": [],
   "source": [
    "import pandas"
   ]
  },
  {
   "cell_type": "code",
   "execution_count": 4,
   "metadata": {
    "collapsed": true
   },
   "outputs": [],
   "source": [
    "conversations = pandas.read_json('https://visahelper-9b5f3.firebaseio.com/conversations.json')"
   ]
  },
  {
   "cell_type": "code",
   "execution_count": 5,
   "metadata": {
    "collapsed": false
   },
   "outputs": [
    {
     "data": {
      "text/html": [
       "<div>\n",
       "<table border=\"1\" class=\"dataframe\">\n",
       "  <thead>\n",
       "    <tr style=\"text-align: right;\">\n",
       "      <th></th>\n",
       "      <th>-KhQ4SYopzNcqMYOdJqR</th>\n",
       "      <th>-KhQ4TfHDo_elS4n9zQd</th>\n",
       "      <th>-KhQ4URMc02t5zwA2otF</th>\n",
       "      <th>-KhQ4WCDLC4BTCIlWsnu</th>\n",
       "      <th>-KhQ7fGgKAbr5SceBbRz</th>\n",
       "      <th>-KhQ7gSMRaFebLq2EDh_</th>\n",
       "      <th>-KhQ7heeiXF-xGxjaKrg</th>\n",
       "      <th>-KhQ8JP4gHZrBD3eQim5</th>\n",
       "      <th>-KhQ8KVrFV7p1oivxCoz</th>\n",
       "      <th>-KhQ8Lm7QV-Qf4UQNkv8</th>\n",
       "      <th>...</th>\n",
       "      <th>-KhQ8sc2ifWWqaqc7BIb</th>\n",
       "      <th>-KhQ8uYB1NRTQQJJlgnT</th>\n",
       "      <th>-KhQ8vf25bMAJYjgzLh3</th>\n",
       "      <th>-KhQ9G_v0AIMe2xZTTVd</th>\n",
       "      <th>-KhQ9HIR5rnU-AEUJR_1</th>\n",
       "      <th>-KhQ9IPuX69vOnG7rIEw</th>\n",
       "      <th>-KhQ9JdySWNFAojnszY2</th>\n",
       "      <th>-KhQ9KZGHL5l9qNNWo3V</th>\n",
       "      <th>-KhQCqH2uRrqT_rx4DNc</th>\n",
       "      <th>-KhR4Iwe_JK2no_J6kkk</th>\n",
       "    </tr>\n",
       "  </thead>\n",
       "  <tbody>\n",
       "    <tr>\n",
       "      <th>dialog-0</th>\n",
       "      <td>holiday/1</td>\n",
       "      <td>holiday/2</td>\n",
       "      <td>holiday/0</td>\n",
       "      <td>None/0</td>\n",
       "      <td>holiday/1</td>\n",
       "      <td>holiday/2</td>\n",
       "      <td>holiday/0</td>\n",
       "      <td>holiday/1</td>\n",
       "      <td>holiday/2</td>\n",
       "      <td>holiday/0</td>\n",
       "      <td>...</td>\n",
       "      <td>holiday/1</td>\n",
       "      <td>holiday/2</td>\n",
       "      <td>holiday/0</td>\n",
       "      <td>greetings/0</td>\n",
       "      <td>visaTypes/0</td>\n",
       "      <td>holiday/1</td>\n",
       "      <td>holiday/2</td>\n",
       "      <td>holiday/0</td>\n",
       "      <td>greetings/0</td>\n",
       "      <td>greetings/0</td>\n",
       "    </tr>\n",
       "    <tr>\n",
       "      <th>dialog-1</th>\n",
       "      <td>visaTypes/0</td>\n",
       "      <td>holiday/1</td>\n",
       "      <td>holiday/2</td>\n",
       "      <td>holiday/0</td>\n",
       "      <td>None/0</td>\n",
       "      <td>holiday/1</td>\n",
       "      <td>holiday/2</td>\n",
       "      <td>holiday/0</td>\n",
       "      <td>holiday/1</td>\n",
       "      <td>holiday/2</td>\n",
       "      <td>...</td>\n",
       "      <td>visaTypes/0</td>\n",
       "      <td>holiday/1</td>\n",
       "      <td>holiday/2</td>\n",
       "      <td>holiday/0</td>\n",
       "      <td>greetings/0</td>\n",
       "      <td>visaTypes/0</td>\n",
       "      <td>holiday/1</td>\n",
       "      <td>holiday/2</td>\n",
       "      <td>holiday/0</td>\n",
       "      <td>greetings/0</td>\n",
       "    </tr>\n",
       "    <tr>\n",
       "      <th>dialog-2</th>\n",
       "      <td>greetings/0</td>\n",
       "      <td>visaTypes/0</td>\n",
       "      <td>holiday/1</td>\n",
       "      <td>holiday/2</td>\n",
       "      <td>holiday/0</td>\n",
       "      <td>None/0</td>\n",
       "      <td>holiday/1</td>\n",
       "      <td>holiday/2</td>\n",
       "      <td>holiday/0</td>\n",
       "      <td>holiday/1</td>\n",
       "      <td>...</td>\n",
       "      <td>greetings/0</td>\n",
       "      <td>visaTypes/0</td>\n",
       "      <td>holiday/1</td>\n",
       "      <td>holiday/2</td>\n",
       "      <td>holiday/0</td>\n",
       "      <td>greetings/0</td>\n",
       "      <td>visaTypes/0</td>\n",
       "      <td>holiday/1</td>\n",
       "      <td>holiday/2</td>\n",
       "      <td>holiday/0</td>\n",
       "    </tr>\n",
       "    <tr>\n",
       "      <th>dialog-3</th>\n",
       "      <td>visaTypes/0</td>\n",
       "      <td>greetings/0</td>\n",
       "      <td>visaTypes/0</td>\n",
       "      <td>holiday/1</td>\n",
       "      <td>holiday/2</td>\n",
       "      <td>holiday/0</td>\n",
       "      <td>None/0</td>\n",
       "      <td>holiday/1</td>\n",
       "      <td>holiday/2</td>\n",
       "      <td>holiday/0</td>\n",
       "      <td>...</td>\n",
       "      <td>holiday/0</td>\n",
       "      <td>greetings/0</td>\n",
       "      <td>visaTypes/0</td>\n",
       "      <td>holiday/1</td>\n",
       "      <td>holiday/2</td>\n",
       "      <td>holiday/0</td>\n",
       "      <td>greetings/0</td>\n",
       "      <td>visaTypes/0</td>\n",
       "      <td>holiday/1</td>\n",
       "      <td>holiday/2</td>\n",
       "    </tr>\n",
       "    <tr>\n",
       "      <th>dialog-4</th>\n",
       "      <td>greetings/0</td>\n",
       "      <td>visaTypes/0</td>\n",
       "      <td>greetings/0</td>\n",
       "      <td>visaTypes/0</td>\n",
       "      <td>holiday/1</td>\n",
       "      <td>holiday/2</td>\n",
       "      <td>holiday/0</td>\n",
       "      <td>None/0</td>\n",
       "      <td>holiday/1</td>\n",
       "      <td>holiday/2</td>\n",
       "      <td>...</td>\n",
       "      <td>holiday/2</td>\n",
       "      <td>holiday/0</td>\n",
       "      <td>greetings/0</td>\n",
       "      <td>visaTypes/0</td>\n",
       "      <td>holiday/1</td>\n",
       "      <td>holiday/2</td>\n",
       "      <td>holiday/0</td>\n",
       "      <td>greetings/0</td>\n",
       "      <td>visaTypes/0</td>\n",
       "      <td>holiday/1</td>\n",
       "    </tr>\n",
       "    <tr>\n",
       "      <th>userId</th>\n",
       "      <td>898448446925342</td>\n",
       "      <td>898448446925342</td>\n",
       "      <td>898448446925342</td>\n",
       "      <td>898448446925342</td>\n",
       "      <td>898448446925342</td>\n",
       "      <td>898448446925342</td>\n",
       "      <td>898448446925342</td>\n",
       "      <td>898448446925342</td>\n",
       "      <td>898448446925342</td>\n",
       "      <td>898448446925342</td>\n",
       "      <td>...</td>\n",
       "      <td>898448446925342</td>\n",
       "      <td>898448446925342</td>\n",
       "      <td>898448446925342</td>\n",
       "      <td>898448446925342</td>\n",
       "      <td>898448446925342</td>\n",
       "      <td>898448446925342</td>\n",
       "      <td>898448446925342</td>\n",
       "      <td>898448446925342</td>\n",
       "      <td>898448446925342</td>\n",
       "      <td>898448446925342</td>\n",
       "    </tr>\n",
       "  </tbody>\n",
       "</table>\n",
       "<p>6 rows × 25 columns</p>\n",
       "</div>"
      ],
      "text/plain": [
       "         -KhQ4SYopzNcqMYOdJqR -KhQ4TfHDo_elS4n9zQd -KhQ4URMc02t5zwA2otF  \\\n",
       "dialog-0            holiday/1            holiday/2            holiday/0   \n",
       "dialog-1          visaTypes/0            holiday/1            holiday/2   \n",
       "dialog-2          greetings/0          visaTypes/0            holiday/1   \n",
       "dialog-3          visaTypes/0          greetings/0          visaTypes/0   \n",
       "dialog-4          greetings/0          visaTypes/0          greetings/0   \n",
       "userId        898448446925342      898448446925342      898448446925342   \n",
       "\n",
       "         -KhQ4WCDLC4BTCIlWsnu -KhQ7fGgKAbr5SceBbRz -KhQ7gSMRaFebLq2EDh_  \\\n",
       "dialog-0               None/0            holiday/1            holiday/2   \n",
       "dialog-1            holiday/0               None/0            holiday/1   \n",
       "dialog-2            holiday/2            holiday/0               None/0   \n",
       "dialog-3            holiday/1            holiday/2            holiday/0   \n",
       "dialog-4          visaTypes/0            holiday/1            holiday/2   \n",
       "userId        898448446925342      898448446925342      898448446925342   \n",
       "\n",
       "         -KhQ7heeiXF-xGxjaKrg -KhQ8JP4gHZrBD3eQim5 -KhQ8KVrFV7p1oivxCoz  \\\n",
       "dialog-0            holiday/0            holiday/1            holiday/2   \n",
       "dialog-1            holiday/2            holiday/0            holiday/1   \n",
       "dialog-2            holiday/1            holiday/2            holiday/0   \n",
       "dialog-3               None/0            holiday/1            holiday/2   \n",
       "dialog-4            holiday/0               None/0            holiday/1   \n",
       "userId        898448446925342      898448446925342      898448446925342   \n",
       "\n",
       "         -KhQ8Lm7QV-Qf4UQNkv8         ...          -KhQ8sc2ifWWqaqc7BIb  \\\n",
       "dialog-0            holiday/0         ...                     holiday/1   \n",
       "dialog-1            holiday/2         ...                   visaTypes/0   \n",
       "dialog-2            holiday/1         ...                   greetings/0   \n",
       "dialog-3            holiday/0         ...                     holiday/0   \n",
       "dialog-4            holiday/2         ...                     holiday/2   \n",
       "userId        898448446925342         ...               898448446925342   \n",
       "\n",
       "         -KhQ8uYB1NRTQQJJlgnT -KhQ8vf25bMAJYjgzLh3 -KhQ9G_v0AIMe2xZTTVd  \\\n",
       "dialog-0            holiday/2            holiday/0          greetings/0   \n",
       "dialog-1            holiday/1            holiday/2            holiday/0   \n",
       "dialog-2          visaTypes/0            holiday/1            holiday/2   \n",
       "dialog-3          greetings/0          visaTypes/0            holiday/1   \n",
       "dialog-4            holiday/0          greetings/0          visaTypes/0   \n",
       "userId        898448446925342      898448446925342      898448446925342   \n",
       "\n",
       "         -KhQ9HIR5rnU-AEUJR_1 -KhQ9IPuX69vOnG7rIEw -KhQ9JdySWNFAojnszY2  \\\n",
       "dialog-0          visaTypes/0            holiday/1            holiday/2   \n",
       "dialog-1          greetings/0          visaTypes/0            holiday/1   \n",
       "dialog-2            holiday/0          greetings/0          visaTypes/0   \n",
       "dialog-3            holiday/2            holiday/0          greetings/0   \n",
       "dialog-4            holiday/1            holiday/2            holiday/0   \n",
       "userId        898448446925342      898448446925342      898448446925342   \n",
       "\n",
       "         -KhQ9KZGHL5l9qNNWo3V -KhQCqH2uRrqT_rx4DNc -KhR4Iwe_JK2no_J6kkk  \n",
       "dialog-0            holiday/0          greetings/0          greetings/0  \n",
       "dialog-1            holiday/2            holiday/0          greetings/0  \n",
       "dialog-2            holiday/1            holiday/2            holiday/0  \n",
       "dialog-3          visaTypes/0            holiday/1            holiday/2  \n",
       "dialog-4          greetings/0          visaTypes/0            holiday/1  \n",
       "userId        898448446925342      898448446925342      898448446925342  \n",
       "\n",
       "[6 rows x 25 columns]"
      ]
     },
     "execution_count": 5,
     "metadata": {},
     "output_type": "execute_result"
    }
   ],
   "source": [
    "conversations"
   ]
  },
  {
   "cell_type": "markdown",
   "metadata": {},
   "source": [
    "## Cleanning the data\n",
    "\n",
    "### Transpose the dataframe"
   ]
  },
  {
   "cell_type": "code",
   "execution_count": 6,
   "metadata": {
    "collapsed": false
   },
   "outputs": [],
   "source": [
    "conversationsT = conversations.T"
   ]
  },
  {
   "cell_type": "code",
   "execution_count": 7,
   "metadata": {
    "collapsed": false
   },
   "outputs": [
    {
     "data": {
      "text/html": [
       "<div>\n",
       "<table border=\"1\" class=\"dataframe\">\n",
       "  <thead>\n",
       "    <tr style=\"text-align: right;\">\n",
       "      <th></th>\n",
       "      <th>dialog-0</th>\n",
       "      <th>dialog-1</th>\n",
       "      <th>dialog-2</th>\n",
       "      <th>dialog-3</th>\n",
       "      <th>dialog-4</th>\n",
       "      <th>userId</th>\n",
       "    </tr>\n",
       "  </thead>\n",
       "  <tbody>\n",
       "    <tr>\n",
       "      <th>-KhQ4SYopzNcqMYOdJqR</th>\n",
       "      <td>holiday/1</td>\n",
       "      <td>visaTypes/0</td>\n",
       "      <td>greetings/0</td>\n",
       "      <td>visaTypes/0</td>\n",
       "      <td>greetings/0</td>\n",
       "      <td>898448446925342</td>\n",
       "    </tr>\n",
       "    <tr>\n",
       "      <th>-KhQ4TfHDo_elS4n9zQd</th>\n",
       "      <td>holiday/2</td>\n",
       "      <td>holiday/1</td>\n",
       "      <td>visaTypes/0</td>\n",
       "      <td>greetings/0</td>\n",
       "      <td>visaTypes/0</td>\n",
       "      <td>898448446925342</td>\n",
       "    </tr>\n",
       "    <tr>\n",
       "      <th>-KhQ4URMc02t5zwA2otF</th>\n",
       "      <td>holiday/0</td>\n",
       "      <td>holiday/2</td>\n",
       "      <td>holiday/1</td>\n",
       "      <td>visaTypes/0</td>\n",
       "      <td>greetings/0</td>\n",
       "      <td>898448446925342</td>\n",
       "    </tr>\n",
       "    <tr>\n",
       "      <th>-KhQ4WCDLC4BTCIlWsnu</th>\n",
       "      <td>None/0</td>\n",
       "      <td>holiday/0</td>\n",
       "      <td>holiday/2</td>\n",
       "      <td>holiday/1</td>\n",
       "      <td>visaTypes/0</td>\n",
       "      <td>898448446925342</td>\n",
       "    </tr>\n",
       "    <tr>\n",
       "      <th>-KhQ7fGgKAbr5SceBbRz</th>\n",
       "      <td>holiday/1</td>\n",
       "      <td>None/0</td>\n",
       "      <td>holiday/0</td>\n",
       "      <td>holiday/2</td>\n",
       "      <td>holiday/1</td>\n",
       "      <td>898448446925342</td>\n",
       "    </tr>\n",
       "    <tr>\n",
       "      <th>-KhQ7gSMRaFebLq2EDh_</th>\n",
       "      <td>holiday/2</td>\n",
       "      <td>holiday/1</td>\n",
       "      <td>None/0</td>\n",
       "      <td>holiday/0</td>\n",
       "      <td>holiday/2</td>\n",
       "      <td>898448446925342</td>\n",
       "    </tr>\n",
       "    <tr>\n",
       "      <th>-KhQ7heeiXF-xGxjaKrg</th>\n",
       "      <td>holiday/0</td>\n",
       "      <td>holiday/2</td>\n",
       "      <td>holiday/1</td>\n",
       "      <td>None/0</td>\n",
       "      <td>holiday/0</td>\n",
       "      <td>898448446925342</td>\n",
       "    </tr>\n",
       "    <tr>\n",
       "      <th>-KhQ8JP4gHZrBD3eQim5</th>\n",
       "      <td>holiday/1</td>\n",
       "      <td>holiday/0</td>\n",
       "      <td>holiday/2</td>\n",
       "      <td>holiday/1</td>\n",
       "      <td>None/0</td>\n",
       "      <td>898448446925342</td>\n",
       "    </tr>\n",
       "    <tr>\n",
       "      <th>-KhQ8KVrFV7p1oivxCoz</th>\n",
       "      <td>holiday/2</td>\n",
       "      <td>holiday/1</td>\n",
       "      <td>holiday/0</td>\n",
       "      <td>holiday/2</td>\n",
       "      <td>holiday/1</td>\n",
       "      <td>898448446925342</td>\n",
       "    </tr>\n",
       "    <tr>\n",
       "      <th>-KhQ8Lm7QV-Qf4UQNkv8</th>\n",
       "      <td>holiday/0</td>\n",
       "      <td>holiday/2</td>\n",
       "      <td>holiday/1</td>\n",
       "      <td>holiday/0</td>\n",
       "      <td>holiday/2</td>\n",
       "      <td>898448446925342</td>\n",
       "    </tr>\n",
       "    <tr>\n",
       "      <th>-KhQ8Xan5tXdLCei7cy-</th>\n",
       "      <td>holiday/1</td>\n",
       "      <td>holiday/0</td>\n",
       "      <td>holiday/2</td>\n",
       "      <td>holiday/1</td>\n",
       "      <td>holiday/0</td>\n",
       "      <td>898448446925342</td>\n",
       "    </tr>\n",
       "    <tr>\n",
       "      <th>-KhQ8YiY82yIBaI6WY_z</th>\n",
       "      <td>holiday/2</td>\n",
       "      <td>holiday/1</td>\n",
       "      <td>holiday/0</td>\n",
       "      <td>holiday/2</td>\n",
       "      <td>holiday/1</td>\n",
       "      <td>898448446925342</td>\n",
       "    </tr>\n",
       "    <tr>\n",
       "      <th>-KhQ8Znpkv6hEd7NKehU</th>\n",
       "      <td>holiday/0</td>\n",
       "      <td>holiday/2</td>\n",
       "      <td>holiday/1</td>\n",
       "      <td>holiday/0</td>\n",
       "      <td>holiday/2</td>\n",
       "      <td>898448446925342</td>\n",
       "    </tr>\n",
       "    <tr>\n",
       "      <th>-KhQ8qvwQ6nNO5UoaRnM</th>\n",
       "      <td>greetings/0</td>\n",
       "      <td>holiday/0</td>\n",
       "      <td>holiday/2</td>\n",
       "      <td>holiday/1</td>\n",
       "      <td>holiday/0</td>\n",
       "      <td>898448446925342</td>\n",
       "    </tr>\n",
       "    <tr>\n",
       "      <th>-KhQ8rabxl6O5aNX58tc</th>\n",
       "      <td>visaTypes/0</td>\n",
       "      <td>greetings/0</td>\n",
       "      <td>holiday/0</td>\n",
       "      <td>holiday/2</td>\n",
       "      <td>holiday/1</td>\n",
       "      <td>898448446925342</td>\n",
       "    </tr>\n",
       "    <tr>\n",
       "      <th>-KhQ8sc2ifWWqaqc7BIb</th>\n",
       "      <td>holiday/1</td>\n",
       "      <td>visaTypes/0</td>\n",
       "      <td>greetings/0</td>\n",
       "      <td>holiday/0</td>\n",
       "      <td>holiday/2</td>\n",
       "      <td>898448446925342</td>\n",
       "    </tr>\n",
       "    <tr>\n",
       "      <th>-KhQ8uYB1NRTQQJJlgnT</th>\n",
       "      <td>holiday/2</td>\n",
       "      <td>holiday/1</td>\n",
       "      <td>visaTypes/0</td>\n",
       "      <td>greetings/0</td>\n",
       "      <td>holiday/0</td>\n",
       "      <td>898448446925342</td>\n",
       "    </tr>\n",
       "    <tr>\n",
       "      <th>-KhQ8vf25bMAJYjgzLh3</th>\n",
       "      <td>holiday/0</td>\n",
       "      <td>holiday/2</td>\n",
       "      <td>holiday/1</td>\n",
       "      <td>visaTypes/0</td>\n",
       "      <td>greetings/0</td>\n",
       "      <td>898448446925342</td>\n",
       "    </tr>\n",
       "    <tr>\n",
       "      <th>-KhQ9G_v0AIMe2xZTTVd</th>\n",
       "      <td>greetings/0</td>\n",
       "      <td>holiday/0</td>\n",
       "      <td>holiday/2</td>\n",
       "      <td>holiday/1</td>\n",
       "      <td>visaTypes/0</td>\n",
       "      <td>898448446925342</td>\n",
       "    </tr>\n",
       "    <tr>\n",
       "      <th>-KhQ9HIR5rnU-AEUJR_1</th>\n",
       "      <td>visaTypes/0</td>\n",
       "      <td>greetings/0</td>\n",
       "      <td>holiday/0</td>\n",
       "      <td>holiday/2</td>\n",
       "      <td>holiday/1</td>\n",
       "      <td>898448446925342</td>\n",
       "    </tr>\n",
       "    <tr>\n",
       "      <th>-KhQ9IPuX69vOnG7rIEw</th>\n",
       "      <td>holiday/1</td>\n",
       "      <td>visaTypes/0</td>\n",
       "      <td>greetings/0</td>\n",
       "      <td>holiday/0</td>\n",
       "      <td>holiday/2</td>\n",
       "      <td>898448446925342</td>\n",
       "    </tr>\n",
       "    <tr>\n",
       "      <th>-KhQ9JdySWNFAojnszY2</th>\n",
       "      <td>holiday/2</td>\n",
       "      <td>holiday/1</td>\n",
       "      <td>visaTypes/0</td>\n",
       "      <td>greetings/0</td>\n",
       "      <td>holiday/0</td>\n",
       "      <td>898448446925342</td>\n",
       "    </tr>\n",
       "    <tr>\n",
       "      <th>-KhQ9KZGHL5l9qNNWo3V</th>\n",
       "      <td>holiday/0</td>\n",
       "      <td>holiday/2</td>\n",
       "      <td>holiday/1</td>\n",
       "      <td>visaTypes/0</td>\n",
       "      <td>greetings/0</td>\n",
       "      <td>898448446925342</td>\n",
       "    </tr>\n",
       "    <tr>\n",
       "      <th>-KhQCqH2uRrqT_rx4DNc</th>\n",
       "      <td>greetings/0</td>\n",
       "      <td>holiday/0</td>\n",
       "      <td>holiday/2</td>\n",
       "      <td>holiday/1</td>\n",
       "      <td>visaTypes/0</td>\n",
       "      <td>898448446925342</td>\n",
       "    </tr>\n",
       "    <tr>\n",
       "      <th>-KhR4Iwe_JK2no_J6kkk</th>\n",
       "      <td>greetings/0</td>\n",
       "      <td>greetings/0</td>\n",
       "      <td>holiday/0</td>\n",
       "      <td>holiday/2</td>\n",
       "      <td>holiday/1</td>\n",
       "      <td>898448446925342</td>\n",
       "    </tr>\n",
       "  </tbody>\n",
       "</table>\n",
       "</div>"
      ],
      "text/plain": [
       "                         dialog-0     dialog-1     dialog-2     dialog-3  \\\n",
       "-KhQ4SYopzNcqMYOdJqR    holiday/1  visaTypes/0  greetings/0  visaTypes/0   \n",
       "-KhQ4TfHDo_elS4n9zQd    holiday/2    holiday/1  visaTypes/0  greetings/0   \n",
       "-KhQ4URMc02t5zwA2otF    holiday/0    holiday/2    holiday/1  visaTypes/0   \n",
       "-KhQ4WCDLC4BTCIlWsnu       None/0    holiday/0    holiday/2    holiday/1   \n",
       "-KhQ7fGgKAbr5SceBbRz    holiday/1       None/0    holiday/0    holiday/2   \n",
       "-KhQ7gSMRaFebLq2EDh_    holiday/2    holiday/1       None/0    holiday/0   \n",
       "-KhQ7heeiXF-xGxjaKrg    holiday/0    holiday/2    holiday/1       None/0   \n",
       "-KhQ8JP4gHZrBD3eQim5    holiday/1    holiday/0    holiday/2    holiday/1   \n",
       "-KhQ8KVrFV7p1oivxCoz    holiday/2    holiday/1    holiday/0    holiday/2   \n",
       "-KhQ8Lm7QV-Qf4UQNkv8    holiday/0    holiday/2    holiday/1    holiday/0   \n",
       "-KhQ8Xan5tXdLCei7cy-    holiday/1    holiday/0    holiday/2    holiday/1   \n",
       "-KhQ8YiY82yIBaI6WY_z    holiday/2    holiday/1    holiday/0    holiday/2   \n",
       "-KhQ8Znpkv6hEd7NKehU    holiday/0    holiday/2    holiday/1    holiday/0   \n",
       "-KhQ8qvwQ6nNO5UoaRnM  greetings/0    holiday/0    holiday/2    holiday/1   \n",
       "-KhQ8rabxl6O5aNX58tc  visaTypes/0  greetings/0    holiday/0    holiday/2   \n",
       "-KhQ8sc2ifWWqaqc7BIb    holiday/1  visaTypes/0  greetings/0    holiday/0   \n",
       "-KhQ8uYB1NRTQQJJlgnT    holiday/2    holiday/1  visaTypes/0  greetings/0   \n",
       "-KhQ8vf25bMAJYjgzLh3    holiday/0    holiday/2    holiday/1  visaTypes/0   \n",
       "-KhQ9G_v0AIMe2xZTTVd  greetings/0    holiday/0    holiday/2    holiday/1   \n",
       "-KhQ9HIR5rnU-AEUJR_1  visaTypes/0  greetings/0    holiday/0    holiday/2   \n",
       "-KhQ9IPuX69vOnG7rIEw    holiday/1  visaTypes/0  greetings/0    holiday/0   \n",
       "-KhQ9JdySWNFAojnszY2    holiday/2    holiday/1  visaTypes/0  greetings/0   \n",
       "-KhQ9KZGHL5l9qNNWo3V    holiday/0    holiday/2    holiday/1  visaTypes/0   \n",
       "-KhQCqH2uRrqT_rx4DNc  greetings/0    holiday/0    holiday/2    holiday/1   \n",
       "-KhR4Iwe_JK2no_J6kkk  greetings/0  greetings/0    holiday/0    holiday/2   \n",
       "\n",
       "                         dialog-4           userId  \n",
       "-KhQ4SYopzNcqMYOdJqR  greetings/0  898448446925342  \n",
       "-KhQ4TfHDo_elS4n9zQd  visaTypes/0  898448446925342  \n",
       "-KhQ4URMc02t5zwA2otF  greetings/0  898448446925342  \n",
       "-KhQ4WCDLC4BTCIlWsnu  visaTypes/0  898448446925342  \n",
       "-KhQ7fGgKAbr5SceBbRz    holiday/1  898448446925342  \n",
       "-KhQ7gSMRaFebLq2EDh_    holiday/2  898448446925342  \n",
       "-KhQ7heeiXF-xGxjaKrg    holiday/0  898448446925342  \n",
       "-KhQ8JP4gHZrBD3eQim5       None/0  898448446925342  \n",
       "-KhQ8KVrFV7p1oivxCoz    holiday/1  898448446925342  \n",
       "-KhQ8Lm7QV-Qf4UQNkv8    holiday/2  898448446925342  \n",
       "-KhQ8Xan5tXdLCei7cy-    holiday/0  898448446925342  \n",
       "-KhQ8YiY82yIBaI6WY_z    holiday/1  898448446925342  \n",
       "-KhQ8Znpkv6hEd7NKehU    holiday/2  898448446925342  \n",
       "-KhQ8qvwQ6nNO5UoaRnM    holiday/0  898448446925342  \n",
       "-KhQ8rabxl6O5aNX58tc    holiday/1  898448446925342  \n",
       "-KhQ8sc2ifWWqaqc7BIb    holiday/2  898448446925342  \n",
       "-KhQ8uYB1NRTQQJJlgnT    holiday/0  898448446925342  \n",
       "-KhQ8vf25bMAJYjgzLh3  greetings/0  898448446925342  \n",
       "-KhQ9G_v0AIMe2xZTTVd  visaTypes/0  898448446925342  \n",
       "-KhQ9HIR5rnU-AEUJR_1    holiday/1  898448446925342  \n",
       "-KhQ9IPuX69vOnG7rIEw    holiday/2  898448446925342  \n",
       "-KhQ9JdySWNFAojnszY2    holiday/0  898448446925342  \n",
       "-KhQ9KZGHL5l9qNNWo3V  greetings/0  898448446925342  \n",
       "-KhQCqH2uRrqT_rx4DNc  visaTypes/0  898448446925342  \n",
       "-KhR4Iwe_JK2no_J6kkk    holiday/1  898448446925342  "
      ]
     },
     "execution_count": 7,
     "metadata": {},
     "output_type": "execute_result"
    }
   ],
   "source": [
    "conversationsT"
   ]
  },
  {
   "cell_type": "markdown",
   "metadata": {},
   "source": [
    "## let's transform intents into dummies boolean"
   ]
  },
  {
   "cell_type": "code",
   "execution_count": 8,
   "metadata": {
    "collapsed": false
   },
   "outputs": [
    {
     "data": {
      "text/plain": [
       "array(['visaTypes/0', 'holiday/1', 'holiday/2', 'holiday/0', 'None/0',\n",
       "       'greetings/0'], dtype=object)"
      ]
     },
     "execution_count": 8,
     "metadata": {},
     "output_type": "execute_result"
    }
   ],
   "source": [
    "# check the number of unique intent/steps\n",
    "uniqueIntent = conversationsT['dialog-1'].unique()\n",
    "uniqueIntent"
   ]
  },
  {
   "cell_type": "code",
   "execution_count": 9,
   "metadata": {
    "collapsed": false
   },
   "outputs": [],
   "source": [
    "dialog1df = pandas.get_dummies(conversationsT['dialog-1'], prefix='dialog-1')\n",
    "# dialog2df = pandas.get_dummies(conversationsT['dialog-1'], prefix='dialog-2')\n",
    "conversationsWithInt = conversationsT.join(dialog1df, how='outer')"
   ]
  },
  {
   "cell_type": "code",
   "execution_count": 10,
   "metadata": {
    "collapsed": false
   },
   "outputs": [
    {
     "data": {
      "text/html": [
       "<div>\n",
       "<table border=\"1\" class=\"dataframe\">\n",
       "  <thead>\n",
       "    <tr style=\"text-align: right;\">\n",
       "      <th></th>\n",
       "      <th>dialog-0</th>\n",
       "      <th>dialog-1</th>\n",
       "      <th>dialog-2</th>\n",
       "      <th>dialog-3</th>\n",
       "      <th>dialog-4</th>\n",
       "      <th>userId</th>\n",
       "      <th>dialog-1_None/0</th>\n",
       "      <th>dialog-1_greetings/0</th>\n",
       "      <th>dialog-1_holiday/0</th>\n",
       "      <th>dialog-1_holiday/1</th>\n",
       "      <th>dialog-1_holiday/2</th>\n",
       "      <th>dialog-1_visaTypes/0</th>\n",
       "    </tr>\n",
       "  </thead>\n",
       "  <tbody>\n",
       "    <tr>\n",
       "      <th>-KhQ4SYopzNcqMYOdJqR</th>\n",
       "      <td>holiday/1</td>\n",
       "      <td>visaTypes/0</td>\n",
       "      <td>greetings/0</td>\n",
       "      <td>visaTypes/0</td>\n",
       "      <td>greetings/0</td>\n",
       "      <td>898448446925342</td>\n",
       "      <td>0</td>\n",
       "      <td>0</td>\n",
       "      <td>0</td>\n",
       "      <td>0</td>\n",
       "      <td>0</td>\n",
       "      <td>1</td>\n",
       "    </tr>\n",
       "    <tr>\n",
       "      <th>-KhQ4TfHDo_elS4n9zQd</th>\n",
       "      <td>holiday/2</td>\n",
       "      <td>holiday/1</td>\n",
       "      <td>visaTypes/0</td>\n",
       "      <td>greetings/0</td>\n",
       "      <td>visaTypes/0</td>\n",
       "      <td>898448446925342</td>\n",
       "      <td>0</td>\n",
       "      <td>0</td>\n",
       "      <td>0</td>\n",
       "      <td>1</td>\n",
       "      <td>0</td>\n",
       "      <td>0</td>\n",
       "    </tr>\n",
       "    <tr>\n",
       "      <th>-KhQ4URMc02t5zwA2otF</th>\n",
       "      <td>holiday/0</td>\n",
       "      <td>holiday/2</td>\n",
       "      <td>holiday/1</td>\n",
       "      <td>visaTypes/0</td>\n",
       "      <td>greetings/0</td>\n",
       "      <td>898448446925342</td>\n",
       "      <td>0</td>\n",
       "      <td>0</td>\n",
       "      <td>0</td>\n",
       "      <td>0</td>\n",
       "      <td>1</td>\n",
       "      <td>0</td>\n",
       "    </tr>\n",
       "    <tr>\n",
       "      <th>-KhQ4WCDLC4BTCIlWsnu</th>\n",
       "      <td>None/0</td>\n",
       "      <td>holiday/0</td>\n",
       "      <td>holiday/2</td>\n",
       "      <td>holiday/1</td>\n",
       "      <td>visaTypes/0</td>\n",
       "      <td>898448446925342</td>\n",
       "      <td>0</td>\n",
       "      <td>0</td>\n",
       "      <td>1</td>\n",
       "      <td>0</td>\n",
       "      <td>0</td>\n",
       "      <td>0</td>\n",
       "    </tr>\n",
       "    <tr>\n",
       "      <th>-KhQ7fGgKAbr5SceBbRz</th>\n",
       "      <td>holiday/1</td>\n",
       "      <td>None/0</td>\n",
       "      <td>holiday/0</td>\n",
       "      <td>holiday/2</td>\n",
       "      <td>holiday/1</td>\n",
       "      <td>898448446925342</td>\n",
       "      <td>1</td>\n",
       "      <td>0</td>\n",
       "      <td>0</td>\n",
       "      <td>0</td>\n",
       "      <td>0</td>\n",
       "      <td>0</td>\n",
       "    </tr>\n",
       "    <tr>\n",
       "      <th>-KhQ7gSMRaFebLq2EDh_</th>\n",
       "      <td>holiday/2</td>\n",
       "      <td>holiday/1</td>\n",
       "      <td>None/0</td>\n",
       "      <td>holiday/0</td>\n",
       "      <td>holiday/2</td>\n",
       "      <td>898448446925342</td>\n",
       "      <td>0</td>\n",
       "      <td>0</td>\n",
       "      <td>0</td>\n",
       "      <td>1</td>\n",
       "      <td>0</td>\n",
       "      <td>0</td>\n",
       "    </tr>\n",
       "    <tr>\n",
       "      <th>-KhQ7heeiXF-xGxjaKrg</th>\n",
       "      <td>holiday/0</td>\n",
       "      <td>holiday/2</td>\n",
       "      <td>holiday/1</td>\n",
       "      <td>None/0</td>\n",
       "      <td>holiday/0</td>\n",
       "      <td>898448446925342</td>\n",
       "      <td>0</td>\n",
       "      <td>0</td>\n",
       "      <td>0</td>\n",
       "      <td>0</td>\n",
       "      <td>1</td>\n",
       "      <td>0</td>\n",
       "    </tr>\n",
       "    <tr>\n",
       "      <th>-KhQ8JP4gHZrBD3eQim5</th>\n",
       "      <td>holiday/1</td>\n",
       "      <td>holiday/0</td>\n",
       "      <td>holiday/2</td>\n",
       "      <td>holiday/1</td>\n",
       "      <td>None/0</td>\n",
       "      <td>898448446925342</td>\n",
       "      <td>0</td>\n",
       "      <td>0</td>\n",
       "      <td>1</td>\n",
       "      <td>0</td>\n",
       "      <td>0</td>\n",
       "      <td>0</td>\n",
       "    </tr>\n",
       "    <tr>\n",
       "      <th>-KhQ8KVrFV7p1oivxCoz</th>\n",
       "      <td>holiday/2</td>\n",
       "      <td>holiday/1</td>\n",
       "      <td>holiday/0</td>\n",
       "      <td>holiday/2</td>\n",
       "      <td>holiday/1</td>\n",
       "      <td>898448446925342</td>\n",
       "      <td>0</td>\n",
       "      <td>0</td>\n",
       "      <td>0</td>\n",
       "      <td>1</td>\n",
       "      <td>0</td>\n",
       "      <td>0</td>\n",
       "    </tr>\n",
       "    <tr>\n",
       "      <th>-KhQ8Lm7QV-Qf4UQNkv8</th>\n",
       "      <td>holiday/0</td>\n",
       "      <td>holiday/2</td>\n",
       "      <td>holiday/1</td>\n",
       "      <td>holiday/0</td>\n",
       "      <td>holiday/2</td>\n",
       "      <td>898448446925342</td>\n",
       "      <td>0</td>\n",
       "      <td>0</td>\n",
       "      <td>0</td>\n",
       "      <td>0</td>\n",
       "      <td>1</td>\n",
       "      <td>0</td>\n",
       "    </tr>\n",
       "    <tr>\n",
       "      <th>-KhQ8Xan5tXdLCei7cy-</th>\n",
       "      <td>holiday/1</td>\n",
       "      <td>holiday/0</td>\n",
       "      <td>holiday/2</td>\n",
       "      <td>holiday/1</td>\n",
       "      <td>holiday/0</td>\n",
       "      <td>898448446925342</td>\n",
       "      <td>0</td>\n",
       "      <td>0</td>\n",
       "      <td>1</td>\n",
       "      <td>0</td>\n",
       "      <td>0</td>\n",
       "      <td>0</td>\n",
       "    </tr>\n",
       "    <tr>\n",
       "      <th>-KhQ8YiY82yIBaI6WY_z</th>\n",
       "      <td>holiday/2</td>\n",
       "      <td>holiday/1</td>\n",
       "      <td>holiday/0</td>\n",
       "      <td>holiday/2</td>\n",
       "      <td>holiday/1</td>\n",
       "      <td>898448446925342</td>\n",
       "      <td>0</td>\n",
       "      <td>0</td>\n",
       "      <td>0</td>\n",
       "      <td>1</td>\n",
       "      <td>0</td>\n",
       "      <td>0</td>\n",
       "    </tr>\n",
       "    <tr>\n",
       "      <th>-KhQ8Znpkv6hEd7NKehU</th>\n",
       "      <td>holiday/0</td>\n",
       "      <td>holiday/2</td>\n",
       "      <td>holiday/1</td>\n",
       "      <td>holiday/0</td>\n",
       "      <td>holiday/2</td>\n",
       "      <td>898448446925342</td>\n",
       "      <td>0</td>\n",
       "      <td>0</td>\n",
       "      <td>0</td>\n",
       "      <td>0</td>\n",
       "      <td>1</td>\n",
       "      <td>0</td>\n",
       "    </tr>\n",
       "    <tr>\n",
       "      <th>-KhQ8qvwQ6nNO5UoaRnM</th>\n",
       "      <td>greetings/0</td>\n",
       "      <td>holiday/0</td>\n",
       "      <td>holiday/2</td>\n",
       "      <td>holiday/1</td>\n",
       "      <td>holiday/0</td>\n",
       "      <td>898448446925342</td>\n",
       "      <td>0</td>\n",
       "      <td>0</td>\n",
       "      <td>1</td>\n",
       "      <td>0</td>\n",
       "      <td>0</td>\n",
       "      <td>0</td>\n",
       "    </tr>\n",
       "    <tr>\n",
       "      <th>-KhQ8rabxl6O5aNX58tc</th>\n",
       "      <td>visaTypes/0</td>\n",
       "      <td>greetings/0</td>\n",
       "      <td>holiday/0</td>\n",
       "      <td>holiday/2</td>\n",
       "      <td>holiday/1</td>\n",
       "      <td>898448446925342</td>\n",
       "      <td>0</td>\n",
       "      <td>1</td>\n",
       "      <td>0</td>\n",
       "      <td>0</td>\n",
       "      <td>0</td>\n",
       "      <td>0</td>\n",
       "    </tr>\n",
       "    <tr>\n",
       "      <th>-KhQ8sc2ifWWqaqc7BIb</th>\n",
       "      <td>holiday/1</td>\n",
       "      <td>visaTypes/0</td>\n",
       "      <td>greetings/0</td>\n",
       "      <td>holiday/0</td>\n",
       "      <td>holiday/2</td>\n",
       "      <td>898448446925342</td>\n",
       "      <td>0</td>\n",
       "      <td>0</td>\n",
       "      <td>0</td>\n",
       "      <td>0</td>\n",
       "      <td>0</td>\n",
       "      <td>1</td>\n",
       "    </tr>\n",
       "    <tr>\n",
       "      <th>-KhQ8uYB1NRTQQJJlgnT</th>\n",
       "      <td>holiday/2</td>\n",
       "      <td>holiday/1</td>\n",
       "      <td>visaTypes/0</td>\n",
       "      <td>greetings/0</td>\n",
       "      <td>holiday/0</td>\n",
       "      <td>898448446925342</td>\n",
       "      <td>0</td>\n",
       "      <td>0</td>\n",
       "      <td>0</td>\n",
       "      <td>1</td>\n",
       "      <td>0</td>\n",
       "      <td>0</td>\n",
       "    </tr>\n",
       "    <tr>\n",
       "      <th>-KhQ8vf25bMAJYjgzLh3</th>\n",
       "      <td>holiday/0</td>\n",
       "      <td>holiday/2</td>\n",
       "      <td>holiday/1</td>\n",
       "      <td>visaTypes/0</td>\n",
       "      <td>greetings/0</td>\n",
       "      <td>898448446925342</td>\n",
       "      <td>0</td>\n",
       "      <td>0</td>\n",
       "      <td>0</td>\n",
       "      <td>0</td>\n",
       "      <td>1</td>\n",
       "      <td>0</td>\n",
       "    </tr>\n",
       "    <tr>\n",
       "      <th>-KhQ9G_v0AIMe2xZTTVd</th>\n",
       "      <td>greetings/0</td>\n",
       "      <td>holiday/0</td>\n",
       "      <td>holiday/2</td>\n",
       "      <td>holiday/1</td>\n",
       "      <td>visaTypes/0</td>\n",
       "      <td>898448446925342</td>\n",
       "      <td>0</td>\n",
       "      <td>0</td>\n",
       "      <td>1</td>\n",
       "      <td>0</td>\n",
       "      <td>0</td>\n",
       "      <td>0</td>\n",
       "    </tr>\n",
       "    <tr>\n",
       "      <th>-KhQ9HIR5rnU-AEUJR_1</th>\n",
       "      <td>visaTypes/0</td>\n",
       "      <td>greetings/0</td>\n",
       "      <td>holiday/0</td>\n",
       "      <td>holiday/2</td>\n",
       "      <td>holiday/1</td>\n",
       "      <td>898448446925342</td>\n",
       "      <td>0</td>\n",
       "      <td>1</td>\n",
       "      <td>0</td>\n",
       "      <td>0</td>\n",
       "      <td>0</td>\n",
       "      <td>0</td>\n",
       "    </tr>\n",
       "    <tr>\n",
       "      <th>-KhQ9IPuX69vOnG7rIEw</th>\n",
       "      <td>holiday/1</td>\n",
       "      <td>visaTypes/0</td>\n",
       "      <td>greetings/0</td>\n",
       "      <td>holiday/0</td>\n",
       "      <td>holiday/2</td>\n",
       "      <td>898448446925342</td>\n",
       "      <td>0</td>\n",
       "      <td>0</td>\n",
       "      <td>0</td>\n",
       "      <td>0</td>\n",
       "      <td>0</td>\n",
       "      <td>1</td>\n",
       "    </tr>\n",
       "    <tr>\n",
       "      <th>-KhQ9JdySWNFAojnszY2</th>\n",
       "      <td>holiday/2</td>\n",
       "      <td>holiday/1</td>\n",
       "      <td>visaTypes/0</td>\n",
       "      <td>greetings/0</td>\n",
       "      <td>holiday/0</td>\n",
       "      <td>898448446925342</td>\n",
       "      <td>0</td>\n",
       "      <td>0</td>\n",
       "      <td>0</td>\n",
       "      <td>1</td>\n",
       "      <td>0</td>\n",
       "      <td>0</td>\n",
       "    </tr>\n",
       "    <tr>\n",
       "      <th>-KhQ9KZGHL5l9qNNWo3V</th>\n",
       "      <td>holiday/0</td>\n",
       "      <td>holiday/2</td>\n",
       "      <td>holiday/1</td>\n",
       "      <td>visaTypes/0</td>\n",
       "      <td>greetings/0</td>\n",
       "      <td>898448446925342</td>\n",
       "      <td>0</td>\n",
       "      <td>0</td>\n",
       "      <td>0</td>\n",
       "      <td>0</td>\n",
       "      <td>1</td>\n",
       "      <td>0</td>\n",
       "    </tr>\n",
       "    <tr>\n",
       "      <th>-KhQCqH2uRrqT_rx4DNc</th>\n",
       "      <td>greetings/0</td>\n",
       "      <td>holiday/0</td>\n",
       "      <td>holiday/2</td>\n",
       "      <td>holiday/1</td>\n",
       "      <td>visaTypes/0</td>\n",
       "      <td>898448446925342</td>\n",
       "      <td>0</td>\n",
       "      <td>0</td>\n",
       "      <td>1</td>\n",
       "      <td>0</td>\n",
       "      <td>0</td>\n",
       "      <td>0</td>\n",
       "    </tr>\n",
       "    <tr>\n",
       "      <th>-KhR4Iwe_JK2no_J6kkk</th>\n",
       "      <td>greetings/0</td>\n",
       "      <td>greetings/0</td>\n",
       "      <td>holiday/0</td>\n",
       "      <td>holiday/2</td>\n",
       "      <td>holiday/1</td>\n",
       "      <td>898448446925342</td>\n",
       "      <td>0</td>\n",
       "      <td>1</td>\n",
       "      <td>0</td>\n",
       "      <td>0</td>\n",
       "      <td>0</td>\n",
       "      <td>0</td>\n",
       "    </tr>\n",
       "  </tbody>\n",
       "</table>\n",
       "</div>"
      ],
      "text/plain": [
       "                         dialog-0     dialog-1     dialog-2     dialog-3  \\\n",
       "-KhQ4SYopzNcqMYOdJqR    holiday/1  visaTypes/0  greetings/0  visaTypes/0   \n",
       "-KhQ4TfHDo_elS4n9zQd    holiday/2    holiday/1  visaTypes/0  greetings/0   \n",
       "-KhQ4URMc02t5zwA2otF    holiday/0    holiday/2    holiday/1  visaTypes/0   \n",
       "-KhQ4WCDLC4BTCIlWsnu       None/0    holiday/0    holiday/2    holiday/1   \n",
       "-KhQ7fGgKAbr5SceBbRz    holiday/1       None/0    holiday/0    holiday/2   \n",
       "-KhQ7gSMRaFebLq2EDh_    holiday/2    holiday/1       None/0    holiday/0   \n",
       "-KhQ7heeiXF-xGxjaKrg    holiday/0    holiday/2    holiday/1       None/0   \n",
       "-KhQ8JP4gHZrBD3eQim5    holiday/1    holiday/0    holiday/2    holiday/1   \n",
       "-KhQ8KVrFV7p1oivxCoz    holiday/2    holiday/1    holiday/0    holiday/2   \n",
       "-KhQ8Lm7QV-Qf4UQNkv8    holiday/0    holiday/2    holiday/1    holiday/0   \n",
       "-KhQ8Xan5tXdLCei7cy-    holiday/1    holiday/0    holiday/2    holiday/1   \n",
       "-KhQ8YiY82yIBaI6WY_z    holiday/2    holiday/1    holiday/0    holiday/2   \n",
       "-KhQ8Znpkv6hEd7NKehU    holiday/0    holiday/2    holiday/1    holiday/0   \n",
       "-KhQ8qvwQ6nNO5UoaRnM  greetings/0    holiday/0    holiday/2    holiday/1   \n",
       "-KhQ8rabxl6O5aNX58tc  visaTypes/0  greetings/0    holiday/0    holiday/2   \n",
       "-KhQ8sc2ifWWqaqc7BIb    holiday/1  visaTypes/0  greetings/0    holiday/0   \n",
       "-KhQ8uYB1NRTQQJJlgnT    holiday/2    holiday/1  visaTypes/0  greetings/0   \n",
       "-KhQ8vf25bMAJYjgzLh3    holiday/0    holiday/2    holiday/1  visaTypes/0   \n",
       "-KhQ9G_v0AIMe2xZTTVd  greetings/0    holiday/0    holiday/2    holiday/1   \n",
       "-KhQ9HIR5rnU-AEUJR_1  visaTypes/0  greetings/0    holiday/0    holiday/2   \n",
       "-KhQ9IPuX69vOnG7rIEw    holiday/1  visaTypes/0  greetings/0    holiday/0   \n",
       "-KhQ9JdySWNFAojnszY2    holiday/2    holiday/1  visaTypes/0  greetings/0   \n",
       "-KhQ9KZGHL5l9qNNWo3V    holiday/0    holiday/2    holiday/1  visaTypes/0   \n",
       "-KhQCqH2uRrqT_rx4DNc  greetings/0    holiday/0    holiday/2    holiday/1   \n",
       "-KhR4Iwe_JK2no_J6kkk  greetings/0  greetings/0    holiday/0    holiday/2   \n",
       "\n",
       "                         dialog-4           userId  dialog-1_None/0  \\\n",
       "-KhQ4SYopzNcqMYOdJqR  greetings/0  898448446925342                0   \n",
       "-KhQ4TfHDo_elS4n9zQd  visaTypes/0  898448446925342                0   \n",
       "-KhQ4URMc02t5zwA2otF  greetings/0  898448446925342                0   \n",
       "-KhQ4WCDLC4BTCIlWsnu  visaTypes/0  898448446925342                0   \n",
       "-KhQ7fGgKAbr5SceBbRz    holiday/1  898448446925342                1   \n",
       "-KhQ7gSMRaFebLq2EDh_    holiday/2  898448446925342                0   \n",
       "-KhQ7heeiXF-xGxjaKrg    holiday/0  898448446925342                0   \n",
       "-KhQ8JP4gHZrBD3eQim5       None/0  898448446925342                0   \n",
       "-KhQ8KVrFV7p1oivxCoz    holiday/1  898448446925342                0   \n",
       "-KhQ8Lm7QV-Qf4UQNkv8    holiday/2  898448446925342                0   \n",
       "-KhQ8Xan5tXdLCei7cy-    holiday/0  898448446925342                0   \n",
       "-KhQ8YiY82yIBaI6WY_z    holiday/1  898448446925342                0   \n",
       "-KhQ8Znpkv6hEd7NKehU    holiday/2  898448446925342                0   \n",
       "-KhQ8qvwQ6nNO5UoaRnM    holiday/0  898448446925342                0   \n",
       "-KhQ8rabxl6O5aNX58tc    holiday/1  898448446925342                0   \n",
       "-KhQ8sc2ifWWqaqc7BIb    holiday/2  898448446925342                0   \n",
       "-KhQ8uYB1NRTQQJJlgnT    holiday/0  898448446925342                0   \n",
       "-KhQ8vf25bMAJYjgzLh3  greetings/0  898448446925342                0   \n",
       "-KhQ9G_v0AIMe2xZTTVd  visaTypes/0  898448446925342                0   \n",
       "-KhQ9HIR5rnU-AEUJR_1    holiday/1  898448446925342                0   \n",
       "-KhQ9IPuX69vOnG7rIEw    holiday/2  898448446925342                0   \n",
       "-KhQ9JdySWNFAojnszY2    holiday/0  898448446925342                0   \n",
       "-KhQ9KZGHL5l9qNNWo3V  greetings/0  898448446925342                0   \n",
       "-KhQCqH2uRrqT_rx4DNc  visaTypes/0  898448446925342                0   \n",
       "-KhR4Iwe_JK2no_J6kkk    holiday/1  898448446925342                0   \n",
       "\n",
       "                      dialog-1_greetings/0  dialog-1_holiday/0  \\\n",
       "-KhQ4SYopzNcqMYOdJqR                     0                   0   \n",
       "-KhQ4TfHDo_elS4n9zQd                     0                   0   \n",
       "-KhQ4URMc02t5zwA2otF                     0                   0   \n",
       "-KhQ4WCDLC4BTCIlWsnu                     0                   1   \n",
       "-KhQ7fGgKAbr5SceBbRz                     0                   0   \n",
       "-KhQ7gSMRaFebLq2EDh_                     0                   0   \n",
       "-KhQ7heeiXF-xGxjaKrg                     0                   0   \n",
       "-KhQ8JP4gHZrBD3eQim5                     0                   1   \n",
       "-KhQ8KVrFV7p1oivxCoz                     0                   0   \n",
       "-KhQ8Lm7QV-Qf4UQNkv8                     0                   0   \n",
       "-KhQ8Xan5tXdLCei7cy-                     0                   1   \n",
       "-KhQ8YiY82yIBaI6WY_z                     0                   0   \n",
       "-KhQ8Znpkv6hEd7NKehU                     0                   0   \n",
       "-KhQ8qvwQ6nNO5UoaRnM                     0                   1   \n",
       "-KhQ8rabxl6O5aNX58tc                     1                   0   \n",
       "-KhQ8sc2ifWWqaqc7BIb                     0                   0   \n",
       "-KhQ8uYB1NRTQQJJlgnT                     0                   0   \n",
       "-KhQ8vf25bMAJYjgzLh3                     0                   0   \n",
       "-KhQ9G_v0AIMe2xZTTVd                     0                   1   \n",
       "-KhQ9HIR5rnU-AEUJR_1                     1                   0   \n",
       "-KhQ9IPuX69vOnG7rIEw                     0                   0   \n",
       "-KhQ9JdySWNFAojnszY2                     0                   0   \n",
       "-KhQ9KZGHL5l9qNNWo3V                     0                   0   \n",
       "-KhQCqH2uRrqT_rx4DNc                     0                   1   \n",
       "-KhR4Iwe_JK2no_J6kkk                     1                   0   \n",
       "\n",
       "                      dialog-1_holiday/1  dialog-1_holiday/2  \\\n",
       "-KhQ4SYopzNcqMYOdJqR                   0                   0   \n",
       "-KhQ4TfHDo_elS4n9zQd                   1                   0   \n",
       "-KhQ4URMc02t5zwA2otF                   0                   1   \n",
       "-KhQ4WCDLC4BTCIlWsnu                   0                   0   \n",
       "-KhQ7fGgKAbr5SceBbRz                   0                   0   \n",
       "-KhQ7gSMRaFebLq2EDh_                   1                   0   \n",
       "-KhQ7heeiXF-xGxjaKrg                   0                   1   \n",
       "-KhQ8JP4gHZrBD3eQim5                   0                   0   \n",
       "-KhQ8KVrFV7p1oivxCoz                   1                   0   \n",
       "-KhQ8Lm7QV-Qf4UQNkv8                   0                   1   \n",
       "-KhQ8Xan5tXdLCei7cy-                   0                   0   \n",
       "-KhQ8YiY82yIBaI6WY_z                   1                   0   \n",
       "-KhQ8Znpkv6hEd7NKehU                   0                   1   \n",
       "-KhQ8qvwQ6nNO5UoaRnM                   0                   0   \n",
       "-KhQ8rabxl6O5aNX58tc                   0                   0   \n",
       "-KhQ8sc2ifWWqaqc7BIb                   0                   0   \n",
       "-KhQ8uYB1NRTQQJJlgnT                   1                   0   \n",
       "-KhQ8vf25bMAJYjgzLh3                   0                   1   \n",
       "-KhQ9G_v0AIMe2xZTTVd                   0                   0   \n",
       "-KhQ9HIR5rnU-AEUJR_1                   0                   0   \n",
       "-KhQ9IPuX69vOnG7rIEw                   0                   0   \n",
       "-KhQ9JdySWNFAojnszY2                   1                   0   \n",
       "-KhQ9KZGHL5l9qNNWo3V                   0                   1   \n",
       "-KhQCqH2uRrqT_rx4DNc                   0                   0   \n",
       "-KhR4Iwe_JK2no_J6kkk                   0                   0   \n",
       "\n",
       "                      dialog-1_visaTypes/0  \n",
       "-KhQ4SYopzNcqMYOdJqR                     1  \n",
       "-KhQ4TfHDo_elS4n9zQd                     0  \n",
       "-KhQ4URMc02t5zwA2otF                     0  \n",
       "-KhQ4WCDLC4BTCIlWsnu                     0  \n",
       "-KhQ7fGgKAbr5SceBbRz                     0  \n",
       "-KhQ7gSMRaFebLq2EDh_                     0  \n",
       "-KhQ7heeiXF-xGxjaKrg                     0  \n",
       "-KhQ8JP4gHZrBD3eQim5                     0  \n",
       "-KhQ8KVrFV7p1oivxCoz                     0  \n",
       "-KhQ8Lm7QV-Qf4UQNkv8                     0  \n",
       "-KhQ8Xan5tXdLCei7cy-                     0  \n",
       "-KhQ8YiY82yIBaI6WY_z                     0  \n",
       "-KhQ8Znpkv6hEd7NKehU                     0  \n",
       "-KhQ8qvwQ6nNO5UoaRnM                     0  \n",
       "-KhQ8rabxl6O5aNX58tc                     0  \n",
       "-KhQ8sc2ifWWqaqc7BIb                     1  \n",
       "-KhQ8uYB1NRTQQJJlgnT                     0  \n",
       "-KhQ8vf25bMAJYjgzLh3                     0  \n",
       "-KhQ9G_v0AIMe2xZTTVd                     0  \n",
       "-KhQ9HIR5rnU-AEUJR_1                     0  \n",
       "-KhQ9IPuX69vOnG7rIEw                     1  \n",
       "-KhQ9JdySWNFAojnszY2                     0  \n",
       "-KhQ9KZGHL5l9qNNWo3V                     0  \n",
       "-KhQCqH2uRrqT_rx4DNc                     0  \n",
       "-KhR4Iwe_JK2no_J6kkk                     0  "
      ]
     },
     "execution_count": 10,
     "metadata": {},
     "output_type": "execute_result"
    }
   ],
   "source": [
    "conversationsWithInt"
   ]
  },
  {
   "cell_type": "markdown",
   "metadata": {},
   "source": [
    "# Predictions"
   ]
  },
  {
   "cell_type": "code",
   "execution_count": 11,
   "metadata": {
    "collapsed": true
   },
   "outputs": [],
   "source": [
    "from sklearn.tree import DecisionTreeClassifier"
   ]
  },
  {
   "cell_type": "code",
   "execution_count": 12,
   "metadata": {
    "collapsed": false
   },
   "outputs": [],
   "source": [
    "dtc = DecisionTreeClassifier()\n",
    "\n",
    "X = conversationsWithInt[['dialog-1_None/0', \n",
    "                    'dialog-1_greetings/0', \n",
    "                    'dialog-1_holiday/0', \n",
    "                    'dialog-1_holiday/1', \n",
    "                    'dialog-1_holiday/2', \n",
    "                    'dialog-1_visaTypes/0', \n",
    "                    'userId']]\n",
    "\n",
    "y = conversationsWithInt['dialog-0']"
   ]
  },
  {
   "cell_type": "code",
   "execution_count": 13,
   "metadata": {
    "collapsed": false
   },
   "outputs": [
    {
     "data": {
      "text/plain": [
       "DecisionTreeClassifier(class_weight=None, criterion='gini', max_depth=None,\n",
       "            max_features=None, max_leaf_nodes=None,\n",
       "            min_impurity_split=1e-07, min_samples_leaf=1,\n",
       "            min_samples_split=2, min_weight_fraction_leaf=0.0,\n",
       "            presort=False, random_state=None, splitter='best')"
      ]
     },
     "execution_count": 13,
     "metadata": {},
     "output_type": "execute_result"
    }
   ],
   "source": [
    "dtc.fit(X, y)"
   ]
  },
  {
   "cell_type": "code",
   "execution_count": 14,
   "metadata": {
    "collapsed": false
   },
   "outputs": [
    {
     "data": {
      "text/plain": [
       "array([[ 0.,  0.,  0.,  0.,  1.,  0.]])"
      ]
     },
     "execution_count": 14,
     "metadata": {},
     "output_type": "execute_result"
    }
   ],
   "source": [
    "# Predicting the next step after dialog-1_holiday/1\n",
    "dtc.predict_proba([[0,0,0,1,0,0,898448446925342]])"
   ]
  },
  {
   "cell_type": "code",
   "execution_count": 15,
   "metadata": {
    "collapsed": false
   },
   "outputs": [
    {
     "data": {
      "text/plain": [
       "array([[ 0.        ,  0.33333333,  0.        ,  0.        ,  0.        ,\n",
       "         0.66666667]])"
      ]
     },
     "execution_count": 15,
     "metadata": {},
     "output_type": "execute_result"
    }
   ],
   "source": [
    "# Predicting the next step after greetings\n",
    "dtc.predict_proba([[0,1,0,0,0,0,898448446925342]])"
   ]
  },
  {
   "cell_type": "code",
   "execution_count": 16,
   "metadata": {
    "collapsed": false
   },
   "outputs": [
    {
     "data": {
      "image/png": "[encoded data removed]",
      "text/plain": [
       "<IPython.core.display.Image object>"
      ]
     },
     "execution_count": 16,
     "metadata": {},
     "output_type": "execute_result"
    }
   ],
   "source": [
    "try:\n",
    " from StringIO import StringIO\n",
    "except ImportError:\n",
    " from io import StringIO\n",
    "import sklearn.tree\n",
    "import IPython.display\n",
    "import pydot\n",
    "import pydotplus\n",
    "File_obj = StringIO()\n",
    "\n",
    "dot_data = StringIO()\n",
    "sklearn.tree.export_graphviz(dtc, out_file=dot_data)\n",
    "graph = pydotplus.graph_from_dot_data(dot_data.getvalue())\n",
    "IPython.display.Image(graph.create_png())"
   ]
  },
  {
   "cell_type": "code",
   "execution_count": 17,
   "metadata": {
    "collapsed": true
   },
   "outputs": [],
   "source": [
    "# sklearn.tree.export_graphviz(dtc, out_file=File_obj, feature_names=features)\n",
    "\n",
    "# print(File_obj.getvalue())\n",
    "\n",
    "# value = \"\"\"digraph Tree {node [shape=box] ;\n",
    "# 0 [label=\"Gender <= 0.5\\ngini = 0.4824\\nsamples = 714\\nvalue = [424, 290]\"] ;\n",
    "# 1 [label=\"gini = 0.3702\\nsamples = 261\\nvalue = [64, 197]\"] ;\n",
    "# 0 -> 1 [labeldistance=2.5, labelangle=45, headlabel=\"True\"] ;\n",
    "# 2 [label=\"gini = 0.3263\\nsamples = 453\\nvalue = [360, 93]\"] ;\n",
    "# 0 -> 2 [labeldistance=2.5, labelangle=-45, headlabel=\"False\"] ;\n",
    "# }'\"\"\"\n",
    "\n",
    "# Graph = pydotplus.graph_from_dot_data(value)\n",
    "# IPython.display.Image(Graph[0].create_png())"
   ]
  },
  {
   "cell_type": "markdown",
   "metadata": {},
   "source": [
    "### todo:\n",
    "\n",
    "- Clean the data: Remove Step\n",
    "\n",
    "\n",
    "- Expose result into API "
   ]
  },
  {
   "cell_type": "markdown",
   "metadata": {},
   "source": [
    "## Save the trainned model into db "
   ]
  },
  {
   "cell_type": "code",
   "execution_count": 39,
   "metadata": {
    "collapsed": false
   },
   "outputs": [
    {
     "data": {
      "text/plain": [
       "['trained-model-py3']"
      ]
     },
     "execution_count": 39,
     "metadata": {},
     "output_type": "execute_result"
    }
   ],
   "source": [
    "import pickle\n",
    "s = pickle.dumps(dtc)"
   ]
  },
  {
   "cell_type": "code",
   "execution_count": 21,
   "metadata": {
    "collapsed": false
   },
   "outputs": [
    {
     "data": {
      "text/plain": [
       "b'\\x80\\x03csklearn.tree.tree\\nDecisionTreeClassifier\\nq\\x00)\\x81q\\x01}q\\x02(X\\t\\x00\\x00\\x00criterionq\\x03X\\x04\\x00\\x00\\x00giniq\\x04X\\x08\\x00\\x00\\x00splitterq\\x05X\\x04\\x00\\x00\\x00bestq\\x06X\\t\\x00\\x00\\x00max_depthq\\x07NX\\x11\\x00\\x00\\x00min_samples_splitq\\x08K\\x02X\\x10\\x00\\x00\\x00min_samples_leafq\\tK\\x01X\\x18\\x00\\x00\\x00min_weight_fraction_leafq\\nG\\x00\\x00\\x00\\x00\\x00\\x00\\x00\\x00X\\x0c\\x00\\x00\\x00max_featuresq\\x0bNX\\x0c\\x00\\x00\\x00random_stateq\\x0cNX\\x0e\\x00\\x00\\x00max_leaf_nodesq\\rNX\\x12\\x00\\x00\\x00min_impurity_splitq\\x0eG>z\\xd7\\xf2\\x9a\\xbc\\xafHX\\x0c\\x00\\x00\\x00class_weightq\\x0fNX\\x07\\x00\\x00\\x00presortq\\x10\\x89X\\x0b\\x00\\x00\\x00n_features_q\\x11K\\x07X\\n\\x00\\x00\\x00n_outputs_q\\x12K\\x01X\\x08\\x00\\x00\\x00classes_q\\x13cnumpy.core.multiarray\\n_reconstruct\\nq\\x14cnumpy\\nndarray\\nq\\x15K\\x00\\x85q\\x16C\\x01bq\\x17\\x87q\\x18Rq\\x19(K\\x01K\\x06\\x85q\\x1acnumpy\\ndtype\\nq\\x1bX\\x02\\x00\\x00\\x00O8q\\x1cK\\x00K\\x01\\x87q\\x1dRq\\x1e(K\\x03X\\x01\\x00\\x00\\x00|q\\x1fNNNJ\\xff\\xff\\xff\\xffJ\\xff\\xff\\xff\\xffK?tq b\\x89]q!(X\\x06\\x00\\x00\\x00None/0q\"X\\x0b\\x00\\x00\\x00greetings/0q#X\\t\\x00\\x00\\x00holiday/0q$X\\t\\x00\\x00\\x00holiday/1q%X\\t\\x00\\x00\\x00holiday/2q&X\\x0b\\x00\\x00\\x00visaTypes/0q\\'etq(bX\\n\\x00\\x00\\x00n_classes_q)cnumpy.core.multiarray\\nscalar\\nq*h\\x1bX\\x02\\x00\\x00\\x00i8q+K\\x00K\\x01\\x87q,Rq-(K\\x03X\\x01\\x00\\x00\\x00<q.NNNJ\\xff\\xff\\xff\\xffJ\\xff\\xff\\xff\\xffK\\x00tq/bC\\x08\\x06\\x00\\x00\\x00\\x00\\x00\\x00\\x00q0\\x86q1Rq2X\\x05\\x00\\x00\\x00tree_q3csklearn.tree._tree\\nTree\\nq4K\\x07h\\x14h\\x15K\\x00\\x85q5h\\x17\\x87q6Rq7(K\\x01K\\x01\\x85q8h-\\x89C\\x08\\x06\\x00\\x00\\x00\\x00\\x00\\x00\\x00q9tq:bK\\x01\\x87q;Rq<}q=(h\\x07K\\x04X\\n\\x00\\x00\\x00node_countq>K\\tX\\x05\\x00\\x00\\x00nodesq?h\\x14h\\x15K\\x00\\x85q@h\\x17\\x87qARqB(K\\x01K\\t\\x85qCh\\x1bX\\x03\\x00\\x00\\x00V56qDK\\x00K\\x01\\x87qERqF(K\\x03h\\x1fN(X\\n\\x00\\x00\\x00left_childqGX\\x0b\\x00\\x00\\x00right_childqHX\\x07\\x00\\x00\\x00featureqIX\\t\\x00\\x00\\x00thresholdqJX\\x08\\x00\\x00\\x00impurityqKX\\x0e\\x00\\x00\\x00n_node_samplesqLX\\x17\\x00\\x00\\x00weighted_n_node_samplesqMtqN}qO(hGh-K\\x00\\x86qPhHh-K\\x08\\x86qQhIh-K\\x10\\x86qRhJh\\x1bX\\x02\\x00\\x00\\x00f8qSK\\x00K\\x01\\x87qTRqU(K\\x03h.NNNJ\\xff\\xff\\xff\\xffJ\\xff\\xff\\xff\\xffK\\x00tqVbK\\x18\\x86qWhKhUK \\x86qXhLh-K(\\x86qYhMhUK0\\x86qZuK8K\\x01K\\x10tq[b\\x89B\\xf8\\x01\\x00\\x00\\x01\\x00\\x00\\x00\\x00\\x00\\x00\\x00\\x08\\x00\\x00\\x00\\x00\\x00\\x00\\x00\\x04\\x00\\x00\\x00\\x00\\x00\\x00\\x00\\x00\\x00\\x00\\x00\\x00\\x00\\xe0?\\x13a\\xc3\\xd3+e\\xe9?\\x19\\x00\\x00\\x00\\x00\\x00\\x00\\x00\\x00\\x00\\x00\\x00\\x00\\x009@\\x02\\x00\\x00\\x00\\x00\\x00\\x00\\x00\\x07\\x00\\x00\\x00\\x00\\x00\\x00\\x00\\x03\\x00\\x00\\x00\\x00\\x00\\x00\\x00\\x00\\x00\\x00\\x00\\x00\\x00\\xe0?x\\xbf\"w\\x98\\xc1\\xe7?\\x13\\x00\\x00\\x00\\x00\\x00\\x00\\x00\\x00\\x00\\x00\\x00\\x00\\x003@\\x03\\x00\\x00\\x00\\x00\\x00\\x00\\x00\\x06\\x00\\x00\\x00\\x00\\x00\\x00\\x00\\x01\\x00\\x00\\x00\\x00\\x00\\x00\\x00\\x00\\x00\\x00\\x00\\x00\\x00\\xe0?\\x02g\\\\\\x8b\\x045\\xe5?\\r\\x00\\x00\\x00\\x00\\x00\\x00\\x00\\x00\\x00\\x00\\x00\\x00\\x00*@\\x04\\x00\\x00\\x00\\x00\\x00\\x00\\x00\\x05\\x00\\x00\\x00\\x00\\x00\\x00\\x00\\x02\\x00\\x00\\x00\\x00\\x00\\x00\\x00\\x00\\x00\\x00\\x00\\x00\\x00\\xe0?H\\xe1z\\x14\\xaeG\\xe1?\\n\\x00\\x00\\x00\\x00\\x00\\x00\\x00\\x00\\x00\\x00\\x00\\x00\\x00$@\\xff\\xff\\xff\\xff\\xff\\xff\\xff\\xff\\xff\\xff\\xff\\xff\\xff\\xff\\xff\\xff\\xfe\\xff\\xff\\xff\\xff\\xff\\xff\\xff\\x00\\x00\\x00\\x00\\x00\\x00\\x00\\xc0\\x00\\x00\\x00\\x00\\x00\\x00\\x00\\x00\\x04\\x00\\x00\\x00\\x00\\x00\\x00\\x00\\x00\\x00\\x00\\x00\\x00\\x00\\x10@\\xff\\xff\\xff\\xff\\xff\\xff\\xff\\xff\\xff\\xff\\xff\\xff\\xff\\xff\\xff\\xff\\xfe\\xff\\xff\\xff\\xff\\xff\\xff\\xff\\x00\\x00\\x00\\x00\\x00\\x00\\x00\\xc0\\xe48\\x8e\\xe38\\x8e\\xe3?\\x06\\x00\\x00\\x00\\x00\\x00\\x00\\x00\\x00\\x00\\x00\\x00\\x00\\x00\\x18@\\xff\\xff\\xff\\xff\\xff\\xff\\xff\\xff\\xff\\xff\\xff\\xff\\xff\\xff\\xff\\xff\\xfe\\xff\\xff\\xff\\xff\\xff\\xff\\xff\\x00\\x00\\x00\\x00\\x00\\x00\\x00\\xc0\\x1c\\xc7q\\x1c\\xc7q\\xdc?\\x03\\x00\\x00\\x00\\x00\\x00\\x00\\x00\\x00\\x00\\x00\\x00\\x00\\x00\\x08@\\xff\\xff\\xff\\xff\\xff\\xff\\xff\\xff\\xff\\xff\\xff\\xff\\xff\\xff\\xff\\xff\\xfe\\xff\\xff\\xff\\xff\\xff\\xff\\xff\\x00\\x00\\x00\\x00\\x00\\x00\\x00\\xc0\\x00\\x00\\x00\\x00\\x00\\x00\\x00\\x00\\x06\\x00\\x00\\x00\\x00\\x00\\x00\\x00\\x00\\x00\\x00\\x00\\x00\\x00\\x18@\\xff\\xff\\xff\\xff\\xff\\xff\\xff\\xff\\xff\\xff\\xff\\xff\\xff\\xff\\xff\\xff\\xfe\\xff\\xff\\xff\\xff\\xff\\xff\\xff\\x00\\x00\\x00\\x00\\x00\\x00\\x00\\xc0\\x00\\x00\\x00\\x00\\x00\\x00\\x00\\x00\\x06\\x00\\x00\\x00\\x00\\x00\\x00\\x00\\x00\\x00\\x00\\x00\\x00\\x00\\x18@q\\\\tq]bX\\x06\\x00\\x00\\x00valuesq^h\\x14h\\x15K\\x00\\x85q_h\\x17\\x87q`Rqa(K\\x01K\\tK\\x01K\\x06\\x87qbhU\\x89B\\xb0\\x01\\x00\\x00\\x00\\x00\\x00\\x00\\x00\\x00\\xf0?\\x00\\x00\\x00\\x00\\x00\\x00\\x10@\\x00\\x00\\x00\\x00\\x00\\x00\\x18@\\x00\\x00\\x00\\x00\\x00\\x00\\x18@\\x00\\x00\\x00\\x00\\x00\\x00\\x18@\\x00\\x00\\x00\\x00\\x00\\x00\\x00@\\x00\\x00\\x00\\x00\\x00\\x00\\xf0?\\x00\\x00\\x00\\x00\\x00\\x00\\x10@\\x00\\x00\\x00\\x00\\x00\\x00\\x00\\x00\\x00\\x00\\x00\\x00\\x00\\x00\\x18@\\x00\\x00\\x00\\x00\\x00\\x00\\x18@\\x00\\x00\\x00\\x00\\x00\\x00\\x00@\\x00\\x00\\x00\\x00\\x00\\x00\\xf0?\\x00\\x00\\x00\\x00\\x00\\x00\\x10@\\x00\\x00\\x00\\x00\\x00\\x00\\x00\\x00\\x00\\x00\\x00\\x00\\x00\\x00\\x18@\\x00\\x00\\x00\\x00\\x00\\x00\\x00\\x00\\x00\\x00\\x00\\x00\\x00\\x00\\x00@\\x00\\x00\\x00\\x00\\x00\\x00\\xf0?\\x00\\x00\\x00\\x00\\x00\\x00\\x08@\\x00\\x00\\x00\\x00\\x00\\x00\\x00\\x00\\x00\\x00\\x00\\x00\\x00\\x00\\x18@\\x00\\x00\\x00\\x00\\x00\\x00\\x00\\x00\\x00\\x00\\x00\\x00\\x00\\x00\\x00\\x00\\x00\\x00\\x00\\x00\\x00\\x00\\x00\\x00\\x00\\x00\\x00\\x00\\x00\\x00\\x00\\x00\\x00\\x00\\x00\\x00\\x00\\x00\\x00\\x00\\x00\\x00\\x00\\x00\\x00\\x00\\x10@\\x00\\x00\\x00\\x00\\x00\\x00\\x00\\x00\\x00\\x00\\x00\\x00\\x00\\x00\\x00\\x00\\x00\\x00\\x00\\x00\\x00\\x00\\xf0?\\x00\\x00\\x00\\x00\\x00\\x00\\x08@\\x00\\x00\\x00\\x00\\x00\\x00\\x00\\x00\\x00\\x00\\x00\\x00\\x00\\x00\\x00@\\x00\\x00\\x00\\x00\\x00\\x00\\x00\\x00\\x00\\x00\\x00\\x00\\x00\\x00\\x00\\x00\\x00\\x00\\x00\\x00\\x00\\x00\\x00\\x00\\x00\\x00\\x00\\x00\\x00\\x00\\xf0?\\x00\\x00\\x00\\x00\\x00\\x00\\x00\\x00\\x00\\x00\\x00\\x00\\x00\\x00\\x00\\x00\\x00\\x00\\x00\\x00\\x00\\x00\\x00\\x00\\x00\\x00\\x00\\x00\\x00\\x00\\x00@\\x00\\x00\\x00\\x00\\x00\\x00\\x00\\x00\\x00\\x00\\x00\\x00\\x00\\x00\\x00\\x00\\x00\\x00\\x00\\x00\\x00\\x00\\x00\\x00\\x00\\x00\\x00\\x00\\x00\\x00\\x00\\x00\\x00\\x00\\x00\\x00\\x00\\x00\\x18@\\x00\\x00\\x00\\x00\\x00\\x00\\x00\\x00\\x00\\x00\\x00\\x00\\x00\\x00\\x00\\x00\\x00\\x00\\x00\\x00\\x00\\x00\\x00\\x00\\x00\\x00\\x00\\x00\\x00\\x00\\x18@\\x00\\x00\\x00\\x00\\x00\\x00\\x00\\x00\\x00\\x00\\x00\\x00\\x00\\x00\\x00\\x00\\x00\\x00\\x00\\x00\\x00\\x00\\x00\\x00qctqdbubX\\r\\x00\\x00\\x00max_features_qeK\\x07X\\x10\\x00\\x00\\x00_sklearn_versionqfX\\x06\\x00\\x00\\x000.18.1qgub.'"
      ]
     },
     "execution_count": 21,
     "metadata": {},
     "output_type": "execute_result"
    }
   ],
   "source": [
    "# display serialized trained model\n",
    "s"
   ]
  },
  {
   "cell_type": "markdown",
   "metadata": {},
   "source": [
    "## Save the serialized model into db"
   ]
  },
  {
   "cell_type": "code",
   "execution_count": 22,
   "metadata": {
    "collapsed": false
   },
   "outputs": [],
   "source": [
    "import requests\n",
    "import json\n",
    "import base64"
   ]
  },
  {
   "cell_type": "code",
   "execution_count": 23,
   "metadata": {
    "collapsed": false
   },
   "outputs": [],
   "source": [
    "# b64model = base64.b64encode(s)\n",
    "# stringModel = s.decode('windows-1252')\n",
    "# url = 'https://visahelper-9b5f3.firebaseio.com/ml.json'\n",
    "# # r = requests.get(url) \n",
    "# # r.content\n",
    "# requests.put(url=url, data = '{ \"prediction_model\": \"' + stringModel + '\" }') "
   ]
  },
  {
   "cell_type": "code",
   "execution_count": 24,
   "metadata": {
    "collapsed": false
   },
   "outputs": [],
   "source": [
    "# b64model.title"
   ]
  },
  {
   "cell_type": "markdown",
   "metadata": {},
   "source": [
    "### Saving model as bytes into db is annoying so moving on\n",
    "\n",
    "## Saving serialized model as file into server"
   ]
  },
  {
   "cell_type": "code",
   "execution_count": 25,
   "metadata": {
    "collapsed": true
   },
   "outputs": [],
   "source": [
    "import pyrebase\n",
    "\n",
    "config = {\n",
    "#     Login and password not in github\n",
    "}\n",
    "\n",
    "firebase = pyrebase.initialize_app(config)"
   ]
  },
  {
   "cell_type": "code",
   "execution_count": 26,
   "metadata": {
    "collapsed": true
   },
   "outputs": [],
   "source": [
    "storage = firebase.storage()"
   ]
  },
  {
   "cell_type": "code",
   "execution_count": 27,
   "metadata": {
    "collapsed": false
   },
   "outputs": [
    {
     "data": {
      "text/plain": [
       "{'bucket': 'visahelper-9b5f3.appspot.com',\n",
       " 'contentDisposition': \"inline; filename*=utf-8''predictions_model_0\",\n",
       " 'contentEncoding': 'identity',\n",
       " 'crc32c': 'vTL1cQ==',\n",
       " 'downloadTokens': '0db36bcf-4e99-4a98-bfa1-1573cb49e0c4',\n",
       " 'etag': 'CJCy28zrntMCEAE=',\n",
       " 'generation': '1491997442890000',\n",
       " 'md5Hash': 'T6qc9mrpmi7eZAmxUyxEog==',\n",
       " 'metageneration': '1',\n",
       " 'name': 'models/predictions_model_0',\n",
       " 'size': '2276',\n",
       " 'storageClass': 'STANDARD',\n",
       " 'timeCreated': '2017-04-12T11:44:02.813Z',\n",
       " 'updated': '2017-04-12T11:44:02.813Z'}"
      ]
     },
     "execution_count": 27,
     "metadata": {},
     "output_type": "execute_result"
    }
   ],
   "source": [
    "storage.child(\"models/predictions_model_0\").put(s)"
   ]
  },
  {
   "cell_type": "markdown",
   "metadata": {},
   "source": [
    "## Test if we can get back the file and run the model"
   ]
  },
  {
   "cell_type": "code",
   "execution_count": 28,
   "metadata": {
    "collapsed": false
   },
   "outputs": [],
   "source": [
    "# we can download the file like that\n",
    "# modelFromFirebase = storage.child(\"models/predictions_model\")\n",
    "# modelFromFirebase.download('./predictions_model')"
   ]
  },
  {
   "cell_type": "code",
   "execution_count": 29,
   "metadata": {
    "collapsed": false
   },
   "outputs": [
    {
     "data": {
      "text/plain": [
       "b'\\x80\\x03csklearn.tree.tree\\nDecisionTreeClassifier\\nq\\x00)\\x81q\\x01}q\\x02(X\\t\\x00\\x00\\x00criterionq\\x03X\\x04\\x00\\x00\\x00giniq\\x04X\\x08\\x00\\x00\\x00splitterq\\x05X\\x04\\x00\\x00\\x00bestq\\x06X\\t\\x00\\x00\\x00max_depthq\\x07NX\\x11\\x00\\x00\\x00min_samples_splitq\\x08K\\x02X\\x10\\x00\\x00\\x00min_samples_leafq\\tK\\x01X\\x18\\x00\\x00\\x00min_weight_fraction_leafq\\nG\\x00\\x00\\x00\\x00\\x00\\x00\\x00\\x00X\\x0c\\x00\\x00\\x00max_featuresq\\x0bNX\\x0c\\x00\\x00\\x00random_stateq\\x0cNX\\x0e\\x00\\x00\\x00max_leaf_nodesq\\rNX\\x12\\x00\\x00\\x00min_impurity_splitq\\x0eG>z\\xd7\\xf2\\x9a\\xbc\\xafHX\\x0c\\x00\\x00\\x00class_weightq\\x0fNX\\x07\\x00\\x00\\x00presortq\\x10\\x89X\\x0b\\x00\\x00\\x00n_features_q\\x11K\\x07X\\n\\x00\\x00\\x00n_outputs_q\\x12K\\x01X\\x08\\x00\\x00\\x00classes_q\\x13cnumpy.core.multiarray\\n_reconstruct\\nq\\x14cnumpy\\nndarray\\nq\\x15K\\x00\\x85q\\x16C\\x01bq\\x17\\x87q\\x18Rq\\x19(K\\x01K\\x06\\x85q\\x1acnumpy\\ndtype\\nq\\x1bX\\x02\\x00\\x00\\x00O8q\\x1cK\\x00K\\x01\\x87q\\x1dRq\\x1e(K\\x03X\\x01\\x00\\x00\\x00|q\\x1fNNNJ\\xff\\xff\\xff\\xffJ\\xff\\xff\\xff\\xffK?tq b\\x89]q!(X\\x06\\x00\\x00\\x00None/0q\"X\\x0b\\x00\\x00\\x00greetings/0q#X\\t\\x00\\x00\\x00holiday/0q$X\\t\\x00\\x00\\x00holiday/1q%X\\t\\x00\\x00\\x00holiday/2q&X\\x0b\\x00\\x00\\x00visaTypes/0q\\'etq(bX\\n\\x00\\x00\\x00n_classes_q)cnumpy.core.multiarray\\nscalar\\nq*h\\x1bX\\x02\\x00\\x00\\x00i8q+K\\x00K\\x01\\x87q,Rq-(K\\x03X\\x01\\x00\\x00\\x00<q.NNNJ\\xff\\xff\\xff\\xffJ\\xff\\xff\\xff\\xffK\\x00tq/bC\\x08\\x06\\x00\\x00\\x00\\x00\\x00\\x00\\x00q0\\x86q1Rq2X\\x05\\x00\\x00\\x00tree_q3csklearn.tree._tree\\nTree\\nq4K\\x07h\\x14h\\x15K\\x00\\x85q5h\\x17\\x87q6Rq7(K\\x01K\\x01\\x85q8h-\\x89C\\x08\\x06\\x00\\x00\\x00\\x00\\x00\\x00\\x00q9tq:bK\\x01\\x87q;Rq<}q=(h\\x07K\\x04X\\n\\x00\\x00\\x00node_countq>K\\tX\\x05\\x00\\x00\\x00nodesq?h\\x14h\\x15K\\x00\\x85q@h\\x17\\x87qARqB(K\\x01K\\t\\x85qCh\\x1bX\\x03\\x00\\x00\\x00V56qDK\\x00K\\x01\\x87qERqF(K\\x03h\\x1fN(X\\n\\x00\\x00\\x00left_childqGX\\x0b\\x00\\x00\\x00right_childqHX\\x07\\x00\\x00\\x00featureqIX\\t\\x00\\x00\\x00thresholdqJX\\x08\\x00\\x00\\x00impurityqKX\\x0e\\x00\\x00\\x00n_node_samplesqLX\\x17\\x00\\x00\\x00weighted_n_node_samplesqMtqN}qO(hGh-K\\x00\\x86qPhHh-K\\x08\\x86qQhIh-K\\x10\\x86qRhJh\\x1bX\\x02\\x00\\x00\\x00f8qSK\\x00K\\x01\\x87qTRqU(K\\x03h.NNNJ\\xff\\xff\\xff\\xffJ\\xff\\xff\\xff\\xffK\\x00tqVbK\\x18\\x86qWhKhUK \\x86qXhLh-K(\\x86qYhMhUK0\\x86qZuK8K\\x01K\\x10tq[b\\x89B\\xf8\\x01\\x00\\x00\\x01\\x00\\x00\\x00\\x00\\x00\\x00\\x00\\x08\\x00\\x00\\x00\\x00\\x00\\x00\\x00\\x04\\x00\\x00\\x00\\x00\\x00\\x00\\x00\\x00\\x00\\x00\\x00\\x00\\x00\\xe0?\\x13a\\xc3\\xd3+e\\xe9?\\x19\\x00\\x00\\x00\\x00\\x00\\x00\\x00\\x00\\x00\\x00\\x00\\x00\\x009@\\x02\\x00\\x00\\x00\\x00\\x00\\x00\\x00\\x07\\x00\\x00\\x00\\x00\\x00\\x00\\x00\\x03\\x00\\x00\\x00\\x00\\x00\\x00\\x00\\x00\\x00\\x00\\x00\\x00\\x00\\xe0?x\\xbf\"w\\x98\\xc1\\xe7?\\x13\\x00\\x00\\x00\\x00\\x00\\x00\\x00\\x00\\x00\\x00\\x00\\x00\\x003@\\x03\\x00\\x00\\x00\\x00\\x00\\x00\\x00\\x06\\x00\\x00\\x00\\x00\\x00\\x00\\x00\\x01\\x00\\x00\\x00\\x00\\x00\\x00\\x00\\x00\\x00\\x00\\x00\\x00\\x00\\xe0?\\x02g\\\\\\x8b\\x045\\xe5?\\r\\x00\\x00\\x00\\x00\\x00\\x00\\x00\\x00\\x00\\x00\\x00\\x00\\x00*@\\x04\\x00\\x00\\x00\\x00\\x00\\x00\\x00\\x05\\x00\\x00\\x00\\x00\\x00\\x00\\x00\\x02\\x00\\x00\\x00\\x00\\x00\\x00\\x00\\x00\\x00\\x00\\x00\\x00\\x00\\xe0?H\\xe1z\\x14\\xaeG\\xe1?\\n\\x00\\x00\\x00\\x00\\x00\\x00\\x00\\x00\\x00\\x00\\x00\\x00\\x00$@\\xff\\xff\\xff\\xff\\xff\\xff\\xff\\xff\\xff\\xff\\xff\\xff\\xff\\xff\\xff\\xff\\xfe\\xff\\xff\\xff\\xff\\xff\\xff\\xff\\x00\\x00\\x00\\x00\\x00\\x00\\x00\\xc0\\x00\\x00\\x00\\x00\\x00\\x00\\x00\\x00\\x04\\x00\\x00\\x00\\x00\\x00\\x00\\x00\\x00\\x00\\x00\\x00\\x00\\x00\\x10@\\xff\\xff\\xff\\xff\\xff\\xff\\xff\\xff\\xff\\xff\\xff\\xff\\xff\\xff\\xff\\xff\\xfe\\xff\\xff\\xff\\xff\\xff\\xff\\xff\\x00\\x00\\x00\\x00\\x00\\x00\\x00\\xc0\\xe48\\x8e\\xe38\\x8e\\xe3?\\x06\\x00\\x00\\x00\\x00\\x00\\x00\\x00\\x00\\x00\\x00\\x00\\x00\\x00\\x18@\\xff\\xff\\xff\\xff\\xff\\xff\\xff\\xff\\xff\\xff\\xff\\xff\\xff\\xff\\xff\\xff\\xfe\\xff\\xff\\xff\\xff\\xff\\xff\\xff\\x00\\x00\\x00\\x00\\x00\\x00\\x00\\xc0\\x1c\\xc7q\\x1c\\xc7q\\xdc?\\x03\\x00\\x00\\x00\\x00\\x00\\x00\\x00\\x00\\x00\\x00\\x00\\x00\\x00\\x08@\\xff\\xff\\xff\\xff\\xff\\xff\\xff\\xff\\xff\\xff\\xff\\xff\\xff\\xff\\xff\\xff\\xfe\\xff\\xff\\xff\\xff\\xff\\xff\\xff\\x00\\x00\\x00\\x00\\x00\\x00\\x00\\xc0\\x00\\x00\\x00\\x00\\x00\\x00\\x00\\x00\\x06\\x00\\x00\\x00\\x00\\x00\\x00\\x00\\x00\\x00\\x00\\x00\\x00\\x00\\x18@\\xff\\xff\\xff\\xff\\xff\\xff\\xff\\xff\\xff\\xff\\xff\\xff\\xff\\xff\\xff\\xff\\xfe\\xff\\xff\\xff\\xff\\xff\\xff\\xff\\x00\\x00\\x00\\x00\\x00\\x00\\x00\\xc0\\x00\\x00\\x00\\x00\\x00\\x00\\x00\\x00\\x06\\x00\\x00\\x00\\x00\\x00\\x00\\x00\\x00\\x00\\x00\\x00\\x00\\x00\\x18@q\\\\tq]bX\\x06\\x00\\x00\\x00valuesq^h\\x14h\\x15K\\x00\\x85q_h\\x17\\x87q`Rqa(K\\x01K\\tK\\x01K\\x06\\x87qbhU\\x89B\\xb0\\x01\\x00\\x00\\x00\\x00\\x00\\x00\\x00\\x00\\xf0?\\x00\\x00\\x00\\x00\\x00\\x00\\x10@\\x00\\x00\\x00\\x00\\x00\\x00\\x18@\\x00\\x00\\x00\\x00\\x00\\x00\\x18@\\x00\\x00\\x00\\x00\\x00\\x00\\x18@\\x00\\x00\\x00\\x00\\x00\\x00\\x00@\\x00\\x00\\x00\\x00\\x00\\x00\\xf0?\\x00\\x00\\x00\\x00\\x00\\x00\\x10@\\x00\\x00\\x00\\x00\\x00\\x00\\x00\\x00\\x00\\x00\\x00\\x00\\x00\\x00\\x18@\\x00\\x00\\x00\\x00\\x00\\x00\\x18@\\x00\\x00\\x00\\x00\\x00\\x00\\x00@\\x00\\x00\\x00\\x00\\x00\\x00\\xf0?\\x00\\x00\\x00\\x00\\x00\\x00\\x10@\\x00\\x00\\x00\\x00\\x00\\x00\\x00\\x00\\x00\\x00\\x00\\x00\\x00\\x00\\x18@\\x00\\x00\\x00\\x00\\x00\\x00\\x00\\x00\\x00\\x00\\x00\\x00\\x00\\x00\\x00@\\x00\\x00\\x00\\x00\\x00\\x00\\xf0?\\x00\\x00\\x00\\x00\\x00\\x00\\x08@\\x00\\x00\\x00\\x00\\x00\\x00\\x00\\x00\\x00\\x00\\x00\\x00\\x00\\x00\\x18@\\x00\\x00\\x00\\x00\\x00\\x00\\x00\\x00\\x00\\x00\\x00\\x00\\x00\\x00\\x00\\x00\\x00\\x00\\x00\\x00\\x00\\x00\\x00\\x00\\x00\\x00\\x00\\x00\\x00\\x00\\x00\\x00\\x00\\x00\\x00\\x00\\x00\\x00\\x00\\x00\\x00\\x00\\x00\\x00\\x00\\x00\\x10@\\x00\\x00\\x00\\x00\\x00\\x00\\x00\\x00\\x00\\x00\\x00\\x00\\x00\\x00\\x00\\x00\\x00\\x00\\x00\\x00\\x00\\x00\\xf0?\\x00\\x00\\x00\\x00\\x00\\x00\\x08@\\x00\\x00\\x00\\x00\\x00\\x00\\x00\\x00\\x00\\x00\\x00\\x00\\x00\\x00\\x00@\\x00\\x00\\x00\\x00\\x00\\x00\\x00\\x00\\x00\\x00\\x00\\x00\\x00\\x00\\x00\\x00\\x00\\x00\\x00\\x00\\x00\\x00\\x00\\x00\\x00\\x00\\x00\\x00\\x00\\x00\\xf0?\\x00\\x00\\x00\\x00\\x00\\x00\\x00\\x00\\x00\\x00\\x00\\x00\\x00\\x00\\x00\\x00\\x00\\x00\\x00\\x00\\x00\\x00\\x00\\x00\\x00\\x00\\x00\\x00\\x00\\x00\\x00@\\x00\\x00\\x00\\x00\\x00\\x00\\x00\\x00\\x00\\x00\\x00\\x00\\x00\\x00\\x00\\x00\\x00\\x00\\x00\\x00\\x00\\x00\\x00\\x00\\x00\\x00\\x00\\x00\\x00\\x00\\x00\\x00\\x00\\x00\\x00\\x00\\x00\\x00\\x18@\\x00\\x00\\x00\\x00\\x00\\x00\\x00\\x00\\x00\\x00\\x00\\x00\\x00\\x00\\x00\\x00\\x00\\x00\\x00\\x00\\x00\\x00\\x00\\x00\\x00\\x00\\x00\\x00\\x00\\x00\\x18@\\x00\\x00\\x00\\x00\\x00\\x00\\x00\\x00\\x00\\x00\\x00\\x00\\x00\\x00\\x00\\x00\\x00\\x00\\x00\\x00\\x00\\x00\\x00\\x00qctqdbubX\\r\\x00\\x00\\x00max_features_qeK\\x07X\\x10\\x00\\x00\\x00_sklearn_versionqfX\\x06\\x00\\x00\\x000.18.1qgub.'"
      ]
     },
     "execution_count": 29,
     "metadata": {},
     "output_type": "execute_result"
    }
   ],
   "source": [
    "# here we want the file content only\n",
    "r = requests.get('https://firebasestorage.googleapis.com/v0/b/visahelper-9b5f3.appspot.com/o/models%2Fpredictions_model_0?alt=media&token=3e89641b-36bf-48ac-a489-11b108c6acba')\n",
    "savedModel = r.content\n",
    "savedModel"
   ]
  },
  {
   "cell_type": "code",
   "execution_count": 30,
   "metadata": {
    "collapsed": false
   },
   "outputs": [
    {
     "data": {
      "text/plain": [
       "bytes"
      ]
     },
     "execution_count": 30,
     "metadata": {},
     "output_type": "execute_result"
    }
   ],
   "source": [
    "type(savedModel)"
   ]
  },
  {
   "cell_type": "markdown",
   "metadata": {},
   "source": [
    "## Unpicke to recreate the model from bytes to python object"
   ]
  },
  {
   "cell_type": "code",
   "execution_count": 31,
   "metadata": {
    "collapsed": false
   },
   "outputs": [],
   "source": [
    "modelReady = pickle.loads(savedModel) "
   ]
  },
  {
   "cell_type": "markdown",
   "metadata": {},
   "source": [
    "# Predict"
   ]
  },
  {
   "cell_type": "code",
   "execution_count": 32,
   "metadata": {
    "collapsed": false
   },
   "outputs": [
    {
     "data": {
      "text/plain": [
       "array([[ 0.,  0.,  0.,  0.,  1.,  0.]])"
      ]
     },
     "execution_count": 32,
     "metadata": {},
     "output_type": "execute_result"
    }
   ],
   "source": [
    "# Predicting the next step after dialog-1_holiday/1\n",
    "modelReady.predict_proba([[0,0,0,1,0,0,898448446925342]])"
   ]
  },
  {
   "cell_type": "code",
   "execution_count": 33,
   "metadata": {
    "collapsed": false
   },
   "outputs": [
    {
     "data": {
      "text/plain": [
       "array([[ 0.        ,  0.33333333,  0.        ,  0.        ,  0.        ,\n",
       "         0.66666667]])"
      ]
     },
     "execution_count": 33,
     "metadata": {},
     "output_type": "execute_result"
    }
   ],
   "source": [
    "# Predicting the next step after greetings\n",
    "dtc.predict_proba([[0,1,0,0,0,0,898448446925342]])"
   ]
  },
  {
   "cell_type": "code",
   "execution_count": null,
   "metadata": {
    "collapsed": false
   },
   "outputs": [],
   "source": []
  },
  {
   "cell_type": "code",
   "execution_count": 41,
   "metadata": {
    "collapsed": false
   },
   "outputs": [
    {
     "data": {
      "text/plain": [
       "array([[ 0.,  0.,  0.,  0.,  1.,  0.]])"
      ]
     },
     "execution_count": 41,
     "metadata": {},
     "output_type": "execute_result"
    }
   ],
   "source": [
    "import requests\n",
    "# test\n",
    "fileName = 'trained-model-py3'\n",
    "# fileUrl = 'https://firebasestorage.googleapis.com/v0/b/visahelper-9b5f3.appspot.com/o/models%2Fpredictions_model_0?alt=media&token=3e89641b-36bf-48ac-a489-11b108c6acba'\n",
    "fileUrl = 'https://firebasestorage.googleapis.com/v0/b/visahelper-9b5f3.appspot.com/o/models%2F' + fileName + '?alt=media&token=3e89641b-36bf-48ac-a489-11b108c6acba'\n",
    "r = requests.get(fileUrl)\n",
    "savedModel = r.content\n",
    "# savedModel\n",
    "# print(savedModel)\n",
    "\n",
    "modelReady = pickle.loads(savedModel)\n",
    "prediction = modelReady.predict_proba([[0,0,0,1,0,0,898448446925342]])\n",
    "prediction"
   ]
  },
  {
   "cell_type": "code",
   "execution_count": null,
   "metadata": {
    "collapsed": true
   },
   "outputs": [],
   "source": []
  }
 ],
 "metadata": {
  "kernelspec": {
   "display_name": "Python 3",
   "language": "python",
   "name": "python3"
  },
  "language_info": {
   "codemirror_mode": {
    "name": "ipython",
    "version": 3
   },
   "file_extension": ".py",
   "mimetype": "text/x-python",
   "name": "python",
   "nbconvert_exporter": "python",
   "pygments_lexer": "ipython3",
   "version": "3.6.0"
  }
 },
 "nbformat": 4,
 "nbformat_minor": 2
}
